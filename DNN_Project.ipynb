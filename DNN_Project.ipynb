{
 "cells": [
  {
   "cell_type": "markdown",
   "metadata": {},
   "source": [
    "### 利用深度学习识别卫星数据\n",
    "\n",
    "在本次作业中我们将会使用深度学习来解决分类问题。 给定的数据在 “point_data.csv”文件里，这个数据总共包含了5个类别（由Class_ID来区分）, 并包括10个特征。在这里，我们需要搭建多层的神经网络（具体细节在下面给出），并利用这个网络来识别分类。"
   ]
  },
  {
   "cell_type": "code",
   "execution_count": 121,
   "metadata": {},
   "outputs": [],
   "source": [
    "# 导入library\n",
    "import numpy as np\n",
    "import matplotlib.pyplot as plt\n",
    "import pandas as pd\n",
    "\n",
    "# TODO 导入跟keras相关的libraray\n",
    "from keras.models import Sequential\n",
    "from keras.layers import Dense, Dropout\n",
    "from keras.optimizers import SGD\n",
    "\n",
    "# 以下是跟sklearn相关的库\n",
    "from sklearn.model_selection import train_test_split\n",
    "from sklearn.preprocessing import LabelEncoder,scale\n",
    "from sklearn.metrics import f1_score, classification_report,confusion_matrix"
   ]
  },
  {
   "cell_type": "code",
   "execution_count": 122,
   "metadata": {},
   "outputs": [],
   "source": [
    "# 导入数据\n",
    "\n",
    "# TODO 设置数据文件的位置(path)\n",
    "filename = 'point_data.csv'\n",
    "dataset = pd.read_csv(filename)\n"
   ]
  },
  {
   "cell_type": "code",
   "execution_count": 123,
   "metadata": {},
   "outputs": [
    {
     "name": "stderr",
     "output_type": "stream",
     "text": [
      "/Users/lyn/anaconda2/envs/py36/lib/python3.6/site-packages/sklearn/preprocessing/label.py:129: DataConversionWarning: A column-vector y was passed when a 1d array was expected. Please change the shape of y to (n_samples, ), for example using ravel().\n",
      "  y = column_or_1d(y, warn=True)\n"
     ]
    }
   ],
   "source": [
    "encoder = LabelEncoder()\n",
    "\n",
    "# 定义标签Y和特征X\n",
    "\n",
    "# TODO: Y: 读取Class_ID字段\n",
    "Y = dataset.iloc[:, 2:3].values\n",
    "\n",
    "# TODO：总共10个特征，分别读取 'B2','B3','B4','B5','B6','B7','B8','B8A','B11','B12' 字段\n",
    "X = dataset.iloc[:, 3:13].values\n",
    "\n",
    "# TODO: 对Y做一个简单的转换（不然会在keras部分会出错） \n",
    "y = encoder.fit_transform(Y)"
   ]
  },
  {
   "cell_type": "code",
   "execution_count": 124,
   "metadata": {
    "collapsed": true
   },
   "outputs": [],
   "source": [
    "# 把数据分成训练数据和测试数据\n",
    "X_train, X_test, y_train, y_test = train_test_split(X, y, test_size=0.20, random_state=42)"
   ]
  },
  {
   "cell_type": "code",
   "execution_count": 125,
   "metadata": {},
   "outputs": [
    {
     "name": "stderr",
     "output_type": "stream",
     "text": [
      "/Users/lyn/anaconda2/envs/py36/lib/python3.6/site-packages/sklearn/utils/validation.py:429: DataConversionWarning: Data with input dtype int64 was converted to float64 by the scale function.\n",
      "  warnings.warn(msg, _DataConversionWarning)\n"
     ]
    }
   ],
   "source": [
    "# TODO: 做数据的归一化 （利用preprocessing.scale函数，详情查看官方文档）\n",
    "X_train = scale(X_train)\n",
    "X_test = scale(X_test)"
   ]
  },
  {
   "cell_type": "code",
   "execution_count": 126,
   "metadata": {},
   "outputs": [],
   "source": [
    "# 定义深度学习模型： 模型总共包含4层hidden layer, 第一层包括50个hidden units, 第二层包括50个hidden units, 第三层包括60个hidden units, \n",
    "#                第四层包括40个hidden units. 并在第一层hidden layer和第二层hidden layer之间添加一个dropout layer (rate=0.2),\n",
    "#                在第二层和第三层hidden layer之间添加dropout layer（rate=0.2）, 第三层和第四层之间添加dropout layer（rate=0.1）。\n",
    "\n",
    "# TODO: 定义各类变量（比如输入维度的大小，输出维度的大小，hidden layer的unit个数等）\n",
    "input_shape = (10,)\n",
    "output_shape = 5\n",
    "\n",
    "# TODO: 定义深度学习模型\n",
    "model = Sequential()\n",
    "\n",
    "model.add(Dense(10, input_shape=input_shape, activation='relu'))\n",
    "model.add(Dense(50, activation='relu'))\n",
    "model.add(Dropout(rate=0.2))\n",
    "model.add(Dense(50, activation='relu'))\n",
    "model.add(Dropout(rate=0.2))\n",
    "model.add(Dense(60, activation='relu'))\n",
    "model.add(Dropout(rate=0.1))\n",
    "model.add(Dense(40, activation='relu'))\n",
    "model.add(Dense(output_shape, activation='softmax'))"
   ]
  },
  {
   "cell_type": "code",
   "execution_count": 127,
   "metadata": {},
   "outputs": [
    {
     "name": "stdout",
     "output_type": "stream",
     "text": [
      "_________________________________________________________________\n",
      "Layer (type)                 Output Shape              Param #   \n",
      "=================================================================\n",
      "dense_49 (Dense)             (None, 10)                110       \n",
      "_________________________________________________________________\n",
      "dense_50 (Dense)             (None, 50)                550       \n",
      "_________________________________________________________________\n",
      "dropout_25 (Dropout)         (None, 50)                0         \n",
      "_________________________________________________________________\n",
      "dense_51 (Dense)             (None, 50)                2550      \n",
      "_________________________________________________________________\n",
      "dropout_26 (Dropout)         (None, 50)                0         \n",
      "_________________________________________________________________\n",
      "dense_52 (Dense)             (None, 60)                3060      \n",
      "_________________________________________________________________\n",
      "dropout_27 (Dropout)         (None, 60)                0         \n",
      "_________________________________________________________________\n",
      "dense_53 (Dense)             (None, 40)                2440      \n",
      "_________________________________________________________________\n",
      "dense_54 (Dense)             (None, 5)                 205       \n",
      "=================================================================\n",
      "Total params: 8,915\n",
      "Trainable params: 8,915\n",
      "Non-trainable params: 0\n",
      "_________________________________________________________________\n"
     ]
    }
   ],
   "source": [
    "# 输出模型描述\n",
    "model.summary()"
   ]
  },
  {
   "cell_type": "code",
   "execution_count": 128,
   "metadata": {
    "collapsed": true
   },
   "outputs": [],
   "source": [
    "#  定义SGD(stochastic gradient descent优化器)，学习率为0.01.  \n",
    "sgd = SGD(lr=0.01, decay=1e-6, momentum=0.9, nesterov=True)"
   ]
  },
  {
   "cell_type": "code",
   "execution_count": 129,
   "metadata": {},
   "outputs": [],
   "source": [
    "# 定义模型的compile函数，设置loss为sparse_categorical_crossentropy, 利用上面定义的sgd优化器，利用准确率作为评估标准\n",
    "model.compile(loss='sparse_categorical_crossentropy',optimizer=sgd, metrics=['accuracy'])"
   ]
  },
  {
   "cell_type": "code",
   "execution_count": 136,
   "metadata": {},
   "outputs": [
    {
     "name": "stdout",
     "output_type": "stream",
     "text": [
      "Train on 16282 samples, validate on 2874 samples\n",
      "Epoch 1/100\n",
      "16282/16282 [==============================] - 1s 64us/step - loss: 0.8594 - acc: 0.6916 - val_loss: 0.3816 - val_acc: 0.8549\n",
      "Epoch 2/100\n",
      "16282/16282 [==============================] - 0s 29us/step - loss: 0.3936 - acc: 0.8589 - val_loss: 0.3250 - val_acc: 0.8907\n",
      "Epoch 3/100\n",
      "16282/16282 [==============================] - 0s 29us/step - loss: 0.3353 - acc: 0.8778 - val_loss: 0.2822 - val_acc: 0.8987\n",
      "Epoch 4/100\n",
      "16282/16282 [==============================] - 0s 29us/step - loss: 0.2947 - acc: 0.8934 - val_loss: 0.2435 - val_acc: 0.9182\n",
      "Epoch 5/100\n",
      "16282/16282 [==============================] - 1s 35us/step - loss: 0.2666 - acc: 0.9047 - val_loss: 0.2341 - val_acc: 0.9186\n",
      "Epoch 6/100\n",
      "16282/16282 [==============================] - 0s 30us/step - loss: 0.2495 - acc: 0.9106 - val_loss: 0.2206 - val_acc: 0.9231\n",
      "Epoch 7/100\n",
      "16282/16282 [==============================] - 0s 29us/step - loss: 0.2367 - acc: 0.9135 - val_loss: 0.2064 - val_acc: 0.9280\n",
      "Epoch 8/100\n",
      "16282/16282 [==============================] - 0s 29us/step - loss: 0.2239 - acc: 0.9199 - val_loss: 0.1990 - val_acc: 0.9370\n",
      "Epoch 9/100\n",
      "16282/16282 [==============================] - 0s 27us/step - loss: 0.2197 - acc: 0.9214 - val_loss: 0.1943 - val_acc: 0.9332\n",
      "Epoch 10/100\n",
      "16282/16282 [==============================] - 0s 27us/step - loss: 0.2048 - acc: 0.9257 - val_loss: 0.1865 - val_acc: 0.9402\n",
      "Epoch 11/100\n",
      "16282/16282 [==============================] - 0s 27us/step - loss: 0.1964 - acc: 0.9288 - val_loss: 0.1732 - val_acc: 0.9450\n",
      "Epoch 12/100\n",
      "16282/16282 [==============================] - 0s 27us/step - loss: 0.1906 - acc: 0.9328 - val_loss: 0.1613 - val_acc: 0.9461\n",
      "Epoch 13/100\n",
      "16282/16282 [==============================] - 0s 28us/step - loss: 0.1793 - acc: 0.9357 - val_loss: 0.1631 - val_acc: 0.9440\n",
      "Epoch 14/100\n",
      "16282/16282 [==============================] - 0s 29us/step - loss: 0.1738 - acc: 0.9385 - val_loss: 0.1510 - val_acc: 0.9492\n",
      "Epoch 15/100\n",
      "16282/16282 [==============================] - 1s 32us/step - loss: 0.1703 - acc: 0.9390 - val_loss: 0.1501 - val_acc: 0.9509\n",
      "Epoch 16/100\n",
      "16282/16282 [==============================] - 0s 30us/step - loss: 0.1603 - acc: 0.9441 - val_loss: 0.1365 - val_acc: 0.9562\n",
      "Epoch 17/100\n",
      "16282/16282 [==============================] - 1s 32us/step - loss: 0.1541 - acc: 0.9455 - val_loss: 0.1326 - val_acc: 0.9541\n",
      "Epoch 18/100\n",
      "16282/16282 [==============================] - 0s 29us/step - loss: 0.1501 - acc: 0.9455 - val_loss: 0.1457 - val_acc: 0.9562\n",
      "Epoch 19/100\n",
      "16282/16282 [==============================] - 0s 29us/step - loss: 0.1463 - acc: 0.9483 - val_loss: 0.1234 - val_acc: 0.9579\n",
      "Epoch 20/100\n",
      "16282/16282 [==============================] - 0s 29us/step - loss: 0.1401 - acc: 0.9510 - val_loss: 0.1224 - val_acc: 0.9589\n",
      "Epoch 21/100\n",
      "16282/16282 [==============================] - 0s 29us/step - loss: 0.1373 - acc: 0.9515 - val_loss: 0.1268 - val_acc: 0.9572\n",
      "Epoch 22/100\n",
      "16282/16282 [==============================] - 0s 30us/step - loss: 0.1333 - acc: 0.9517 - val_loss: 0.1222 - val_acc: 0.9621\n",
      "Epoch 23/100\n",
      "16282/16282 [==============================] - 1s 31us/step - loss: 0.1338 - acc: 0.9504 - val_loss: 0.1159 - val_acc: 0.9586\n",
      "Epoch 24/100\n",
      "16282/16282 [==============================] - 1s 31us/step - loss: 0.1280 - acc: 0.9560 - val_loss: 0.1278 - val_acc: 0.9649\n",
      "Epoch 25/100\n",
      "16282/16282 [==============================] - 0s 28us/step - loss: 0.1281 - acc: 0.9542 - val_loss: 0.1162 - val_acc: 0.9600\n",
      "Epoch 26/100\n",
      "16282/16282 [==============================] - 0s 29us/step - loss: 0.1273 - acc: 0.9553 - val_loss: 0.1084 - val_acc: 0.9631\n",
      "Epoch 27/100\n",
      "16282/16282 [==============================] - 0s 27us/step - loss: 0.1224 - acc: 0.9569 - val_loss: 0.1102 - val_acc: 0.9649\n",
      "Epoch 28/100\n",
      "16282/16282 [==============================] - 0s 29us/step - loss: 0.1200 - acc: 0.9583 - val_loss: 0.1038 - val_acc: 0.9690\n",
      "Epoch 29/100\n",
      "16282/16282 [==============================] - 0s 28us/step - loss: 0.1156 - acc: 0.9584 - val_loss: 0.1039 - val_acc: 0.9649\n",
      "Epoch 30/100\n",
      "16282/16282 [==============================] - 0s 27us/step - loss: 0.1153 - acc: 0.9596 - val_loss: 0.1096 - val_acc: 0.9642\n",
      "Epoch 31/100\n",
      "16282/16282 [==============================] - 0s 29us/step - loss: 0.1111 - acc: 0.9600 - val_loss: 0.1095 - val_acc: 0.9666\n",
      "Epoch 32/100\n",
      "16282/16282 [==============================] - 0s 28us/step - loss: 0.1146 - acc: 0.9597 - val_loss: 0.1054 - val_acc: 0.9666\n",
      "Epoch 33/100\n",
      "16282/16282 [==============================] - 0s 27us/step - loss: 0.1127 - acc: 0.9590 - val_loss: 0.1089 - val_acc: 0.9649\n",
      "Epoch 34/100\n",
      "16282/16282 [==============================] - 0s 27us/step - loss: 0.1113 - acc: 0.9595 - val_loss: 0.1086 - val_acc: 0.9645\n",
      "Epoch 35/100\n",
      "16282/16282 [==============================] - 1s 32us/step - loss: 0.1119 - acc: 0.9602 - val_loss: 0.1309 - val_acc: 0.9558\n",
      "Epoch 36/100\n",
      "16282/16282 [==============================] - 1s 32us/step - loss: 0.1061 - acc: 0.9633 - val_loss: 0.0957 - val_acc: 0.9690\n",
      "Epoch 37/100\n",
      "16282/16282 [==============================] - 0s 31us/step - loss: 0.1063 - acc: 0.9621 - val_loss: 0.1023 - val_acc: 0.9669\n",
      "Epoch 38/100\n",
      "16282/16282 [==============================] - 1s 33us/step - loss: 0.1076 - acc: 0.9608 - val_loss: 0.1137 - val_acc: 0.9582\n",
      "Epoch 39/100\n",
      "16282/16282 [==============================] - 0s 29us/step - loss: 0.1014 - acc: 0.9645 - val_loss: 0.0956 - val_acc: 0.9669\n",
      "Epoch 40/100\n",
      "16282/16282 [==============================] - 0s 30us/step - loss: 0.1003 - acc: 0.9643 - val_loss: 0.1075 - val_acc: 0.9645\n",
      "Epoch 41/100\n",
      "16282/16282 [==============================] - 0s 29us/step - loss: 0.0997 - acc: 0.9651 - val_loss: 0.0945 - val_acc: 0.9687\n",
      "Epoch 42/100\n",
      "16282/16282 [==============================] - 0s 30us/step - loss: 0.0999 - acc: 0.9655 - val_loss: 0.1012 - val_acc: 0.9690\n",
      "Epoch 43/100\n",
      "16282/16282 [==============================] - 0s 27us/step - loss: 0.0992 - acc: 0.9661 - val_loss: 0.1113 - val_acc: 0.9659\n",
      "Epoch 44/100\n",
      "16282/16282 [==============================] - 0s 29us/step - loss: 0.0986 - acc: 0.9652 - val_loss: 0.0930 - val_acc: 0.9715\n",
      "Epoch 45/100\n",
      "16282/16282 [==============================] - 0s 29us/step - loss: 0.0958 - acc: 0.9669 - val_loss: 0.0951 - val_acc: 0.9722\n",
      "Epoch 46/100\n",
      "16282/16282 [==============================] - 0s 30us/step - loss: 0.0950 - acc: 0.9665 - val_loss: 0.1188 - val_acc: 0.9589\n",
      "Epoch 47/100\n",
      "16282/16282 [==============================] - 0s 31us/step - loss: 0.0930 - acc: 0.9671 - val_loss: 0.0866 - val_acc: 0.9739\n",
      "Epoch 48/100\n",
      "16282/16282 [==============================] - 0s 30us/step - loss: 0.0944 - acc: 0.9674 - val_loss: 0.0950 - val_acc: 0.9715\n",
      "Epoch 49/100\n",
      "16282/16282 [==============================] - 1s 32us/step - loss: 0.0927 - acc: 0.9673 - val_loss: 0.0872 - val_acc: 0.9722\n",
      "Epoch 50/100\n",
      "16282/16282 [==============================] - 1s 32us/step - loss: 0.0926 - acc: 0.9670 - val_loss: 0.0840 - val_acc: 0.9732\n",
      "Epoch 51/100\n",
      "16282/16282 [==============================] - 1s 31us/step - loss: 0.0931 - acc: 0.9693 - val_loss: 0.0895 - val_acc: 0.9749\n",
      "Epoch 52/100\n",
      "16282/16282 [==============================] - 0s 28us/step - loss: 0.0868 - acc: 0.9694 - val_loss: 0.0826 - val_acc: 0.9749\n",
      "Epoch 53/100\n",
      "16282/16282 [==============================] - 1s 32us/step - loss: 0.0864 - acc: 0.9706 - val_loss: 0.0894 - val_acc: 0.9736\n",
      "Epoch 54/100\n",
      "16282/16282 [==============================] - 0s 29us/step - loss: 0.0874 - acc: 0.9693 - val_loss: 0.0915 - val_acc: 0.9680\n",
      "Epoch 55/100\n",
      "16282/16282 [==============================] - 0s 29us/step - loss: 0.0900 - acc: 0.9676 - val_loss: 0.0846 - val_acc: 0.9749\n",
      "Epoch 56/100\n",
      "16282/16282 [==============================] - 0s 30us/step - loss: 0.0882 - acc: 0.9674 - val_loss: 0.0866 - val_acc: 0.9767\n",
      "Epoch 57/100\n",
      "16282/16282 [==============================] - 1s 31us/step - loss: 0.0868 - acc: 0.9711 - val_loss: 0.0805 - val_acc: 0.9770\n",
      "Epoch 58/100\n",
      "16282/16282 [==============================] - 0s 30us/step - loss: 0.0879 - acc: 0.9695 - val_loss: 0.0877 - val_acc: 0.9743\n",
      "Epoch 59/100\n"
     ]
    },
    {
     "name": "stdout",
     "output_type": "stream",
     "text": [
      "16282/16282 [==============================] - 0s 30us/step - loss: 0.0820 - acc: 0.9714 - val_loss: 0.0817 - val_acc: 0.9749\n",
      "Epoch 60/100\n",
      "16282/16282 [==============================] - 0s 29us/step - loss: 0.0838 - acc: 0.9714 - val_loss: 0.0838 - val_acc: 0.9743\n",
      "Epoch 61/100\n",
      "16282/16282 [==============================] - 0s 30us/step - loss: 0.0845 - acc: 0.9697 - val_loss: 0.0802 - val_acc: 0.9763\n",
      "Epoch 62/100\n",
      "16282/16282 [==============================] - 0s 30us/step - loss: 0.0878 - acc: 0.9700 - val_loss: 0.0825 - val_acc: 0.9763\n",
      "Epoch 63/100\n",
      "16282/16282 [==============================] - 1s 31us/step - loss: 0.0815 - acc: 0.9725 - val_loss: 0.0801 - val_acc: 0.9791\n",
      "Epoch 64/100\n",
      "16282/16282 [==============================] - 0s 30us/step - loss: 0.0810 - acc: 0.9725 - val_loss: 0.0816 - val_acc: 0.9760\n",
      "Epoch 65/100\n",
      "16282/16282 [==============================] - 0s 29us/step - loss: 0.0804 - acc: 0.9729 - val_loss: 0.0828 - val_acc: 0.9756\n",
      "Epoch 66/100\n",
      "16282/16282 [==============================] - 0s 27us/step - loss: 0.0840 - acc: 0.9709 - val_loss: 0.0766 - val_acc: 0.9781\n",
      "Epoch 67/100\n",
      "16282/16282 [==============================] - 0s 29us/step - loss: 0.0782 - acc: 0.9717 - val_loss: 0.0811 - val_acc: 0.9802\n",
      "Epoch 68/100\n",
      "16282/16282 [==============================] - 0s 30us/step - loss: 0.0780 - acc: 0.9730 - val_loss: 0.0874 - val_acc: 0.9687\n",
      "Epoch 69/100\n",
      "16282/16282 [==============================] - 0s 29us/step - loss: 0.0779 - acc: 0.9736 - val_loss: 0.0786 - val_acc: 0.9798\n",
      "Epoch 70/100\n",
      "16282/16282 [==============================] - 0s 28us/step - loss: 0.0749 - acc: 0.9736 - val_loss: 0.0833 - val_acc: 0.9746\n",
      "Epoch 71/100\n",
      "16282/16282 [==============================] - 0s 27us/step - loss: 0.0761 - acc: 0.9748 - val_loss: 0.0767 - val_acc: 0.9763\n",
      "Epoch 72/100\n",
      "16282/16282 [==============================] - 0s 28us/step - loss: 0.0783 - acc: 0.9727 - val_loss: 0.0764 - val_acc: 0.9770\n",
      "Epoch 73/100\n",
      "16282/16282 [==============================] - 0s 28us/step - loss: 0.0811 - acc: 0.9717 - val_loss: 0.0798 - val_acc: 0.9756\n",
      "Epoch 74/100\n",
      "16282/16282 [==============================] - 0s 30us/step - loss: 0.0771 - acc: 0.9732 - val_loss: 0.0724 - val_acc: 0.9777\n",
      "Epoch 75/100\n",
      "16282/16282 [==============================] - 1s 33us/step - loss: 0.0732 - acc: 0.9741 - val_loss: 0.0840 - val_acc: 0.9743\n",
      "Epoch 76/100\n",
      "16282/16282 [==============================] - 0s 30us/step - loss: 0.0798 - acc: 0.9730 - val_loss: 0.0861 - val_acc: 0.9722\n",
      "Epoch 77/100\n",
      "16282/16282 [==============================] - 1s 33us/step - loss: 0.0752 - acc: 0.9738 - val_loss: 0.0915 - val_acc: 0.9736\n",
      "Epoch 78/100\n",
      "16282/16282 [==============================] - 1s 32us/step - loss: 0.0735 - acc: 0.9725 - val_loss: 0.0790 - val_acc: 0.9760\n",
      "Epoch 79/100\n",
      "16282/16282 [==============================] - 0s 30us/step - loss: 0.0691 - acc: 0.9769 - val_loss: 0.0756 - val_acc: 0.9784\n",
      "Epoch 80/100\n",
      "16282/16282 [==============================] - 0s 30us/step - loss: 0.0734 - acc: 0.9742 - val_loss: 0.0739 - val_acc: 0.9781\n",
      "Epoch 81/100\n",
      "16282/16282 [==============================] - 1s 33us/step - loss: 0.0723 - acc: 0.9756 - val_loss: 0.0698 - val_acc: 0.9781\n",
      "Epoch 82/100\n",
      "16282/16282 [==============================] - 0s 28us/step - loss: 0.0680 - acc: 0.9764 - val_loss: 0.0664 - val_acc: 0.9805\n",
      "Epoch 83/100\n",
      "16282/16282 [==============================] - 1s 33us/step - loss: 0.0731 - acc: 0.9754 - val_loss: 0.0672 - val_acc: 0.9781\n",
      "Epoch 84/100\n",
      "16282/16282 [==============================] - 1s 31us/step - loss: 0.0688 - acc: 0.9771 - val_loss: 0.0782 - val_acc: 0.9736\n",
      "Epoch 85/100\n",
      "16282/16282 [==============================] - 1s 33us/step - loss: 0.0682 - acc: 0.9757 - val_loss: 0.0702 - val_acc: 0.9802\n",
      "Epoch 86/100\n",
      "16282/16282 [==============================] - 1s 31us/step - loss: 0.0691 - acc: 0.9764 - val_loss: 0.0797 - val_acc: 0.9743\n",
      "Epoch 87/100\n",
      "16282/16282 [==============================] - 1s 32us/step - loss: 0.0745 - acc: 0.9744 - val_loss: 0.0677 - val_acc: 0.9809\n",
      "Epoch 88/100\n",
      "16282/16282 [==============================] - 1s 31us/step - loss: 0.0741 - acc: 0.9746 - val_loss: 0.0784 - val_acc: 0.9729\n",
      "Epoch 89/100\n",
      "16282/16282 [==============================] - 1s 33us/step - loss: 0.0676 - acc: 0.9765 - val_loss: 0.0710 - val_acc: 0.9781\n",
      "Epoch 90/100\n",
      "16282/16282 [==============================] - 1s 34us/step - loss: 0.0697 - acc: 0.9766 - val_loss: 0.0689 - val_acc: 0.9798\n",
      "Epoch 91/100\n",
      "16282/16282 [==============================] - 0s 30us/step - loss: 0.0685 - acc: 0.9777 - val_loss: 0.0665 - val_acc: 0.9802\n",
      "Epoch 92/100\n",
      "16282/16282 [==============================] - 1s 33us/step - loss: 0.0707 - acc: 0.9766 - val_loss: 0.0739 - val_acc: 0.9770\n",
      "Epoch 93/100\n",
      "16282/16282 [==============================] - 0s 29us/step - loss: 0.0669 - acc: 0.9763 - val_loss: 0.0748 - val_acc: 0.9777\n",
      "Epoch 94/100\n",
      "16282/16282 [==============================] - 1s 31us/step - loss: 0.0696 - acc: 0.9749 - val_loss: 0.0650 - val_acc: 0.9809\n",
      "Epoch 95/100\n",
      "16282/16282 [==============================] - 0s 28us/step - loss: 0.0686 - acc: 0.9765 - val_loss: 0.0685 - val_acc: 0.9781\n",
      "Epoch 96/100\n",
      "16282/16282 [==============================] - 0s 29us/step - loss: 0.0650 - acc: 0.9776 - val_loss: 0.0728 - val_acc: 0.9777\n",
      "Epoch 97/100\n",
      "16282/16282 [==============================] - 0s 29us/step - loss: 0.0678 - acc: 0.9773 - val_loss: 0.0777 - val_acc: 0.9683\n",
      "Epoch 98/100\n",
      "16282/16282 [==============================] - 0s 29us/step - loss: 0.0642 - acc: 0.9775 - val_loss: 0.0664 - val_acc: 0.9809\n",
      "Epoch 99/100\n",
      "16282/16282 [==============================] - 1s 31us/step - loss: 0.0649 - acc: 0.9779 - val_loss: 0.0698 - val_acc: 0.9805\n",
      "Epoch 100/100\n",
      "16282/16282 [==============================] - 0s 28us/step - loss: 0.0614 - acc: 0.9790 - val_loss: 0.0682 - val_acc: 0.9830\n"
     ]
    }
   ],
   "source": [
    "# TODO: 训练模型，设置epoch为100， batch_Size为100，并把训练数据中的15%作为validation data(验证集), 把中间的结果都赋给history变量（后面做分析用）             \n",
    "history = model.fit(X_train, y_train, epochs=100,batch_size=100,validation_split=0.15)\n",
    " "
   ]
  },
  {
   "cell_type": "code",
   "execution_count": 137,
   "metadata": {},
   "outputs": [
    {
     "data": {
      "image/png": "[encoded data removed]",
      "text/plain": [
       "<matplotlib.figure.Figure at 0x124d77e10>"
      ]
     },
     "metadata": {},
     "output_type": "display_data"
    }
   ],
   "source": [
    "# 画一个图来表示准确率的变化情况（分别在训练数据和测试数据）\n",
    "plt.plot(history.history['acc'])\n",
    "plt.plot(history.history['val_acc'])\n",
    "plt.title('accuracy')\n",
    "plt.ylabel('accuracy')\n",
    "plt.xlabel('epoch')\n",
    "plt.legend(['train', 'test'], loc='lower right')\n",
    "plt.show()"
   ]
  },
  {
   "cell_type": "code",
   "execution_count": 138,
   "metadata": {},
   "outputs": [
    {
     "data": {
      "image/png": "[encoded data removed]",
      "text/plain": [
       "<matplotlib.figure.Figure at 0x1206fac88>"
      ]
     },
     "metadata": {},
     "output_type": "display_data"
    }
   ],
   "source": [
    "# 画一个图来表示LOSS的变化情况（分别在训练数据和测试数据）\n",
    "plt.plot(history.history['loss'])\n",
    "plt.plot(history.history['val_loss'])\n",
    "plt.title('loss')\n",
    "plt.ylabel('loss')\n",
    "plt.xlabel('epoch')\n",
    "plt.legend(['train', 'test'], loc='upper right')\n",
    "plt.show()"
   ]
  },
  {
   "cell_type": "code",
   "execution_count": 139,
   "metadata": {},
   "outputs": [
    {
     "name": "stdout",
     "output_type": "stream",
     "text": [
      "4789/4789 [==============================] - 0s 11us/step\n",
      "[0.055093872104377634, 0.97786595443515301]\n",
      "Baseline Error: 2.21%\n"
     ]
    }
   ],
   "source": [
    "# 在测试数据上做评估\n",
    "y_pred = model.predict(X_test)\n",
    "score = model.evaluate(X_test, y_test, batch_size=100, verbose=1)\n",
    "print(score)\n",
    "print(\"Baseline Error: %.2f%%\" % (100-score[1]*100))"
   ]
  },
  {
   "cell_type": "code",
   "execution_count": 140,
   "metadata": {
    "collapsed": true
   },
   "outputs": [],
   "source": [
    "# 预测结果\n",
    "test_class = model.predict_classes(X_test)"
   ]
  },
  {
   "cell_type": "code",
   "execution_count": 141,
   "metadata": {},
   "outputs": [
    {
     "data": {
      "text/plain": [
       "array([[1054,   44,    4,    0,    0],\n",
       "       [  16,  852,   11,    0,    0],\n",
       "       [   5,    0, 1611,    2,    0],\n",
       "       [   0,    0,   18,  953,    0],\n",
       "       [   0,    0,    6,    0,  213]])"
      ]
     },
     "execution_count": 141,
     "metadata": {},
     "output_type": "execute_result"
    }
   ],
   "source": [
    "# TODO: 画混淆矩阵（confusion matrix）\n",
    "confusion_matrix(y_test, test_class)"
   ]
  },
  {
   "cell_type": "code",
   "execution_count": 142,
   "metadata": {},
   "outputs": [
    {
     "name": "stdout",
     "output_type": "stream",
     "text": [
      "             precision    recall  f1-score   support\n",
      "\n",
      "          0       0.98      0.96      0.97      1102\n",
      "          1       0.95      0.97      0.96       879\n",
      "          2       0.98      1.00      0.99      1618\n",
      "          3       1.00      0.98      0.99       971\n",
      "          4       1.00      0.97      0.99       219\n",
      "\n",
      "avg / total       0.98      0.98      0.98      4789\n",
      "\n"
     ]
    }
   ],
   "source": [
    "# TODO: 输出在测试集上的precision, recall, f1-score\n",
    "print(classification_report(y_test, test_class))"
   ]
  },
  {
   "cell_type": "code",
   "execution_count": null,
   "metadata": {
    "collapsed": true
   },
   "outputs": [],
   "source": []
  }
 ],
 "metadata": {
  "kernelspec": {
   "display_name": "Python 3",
   "language": "python",
   "name": "python3"
  },
  "language_info": {
   "codemirror_mode": {
    "name": "ipython",
    "version": 3
   },
   "file_extension": ".py",
   "mimetype": "text/x-python",
   "name": "python",
   "nbconvert_exporter": "python",
   "pygments_lexer": "ipython3",
   "version": "3.6.1"
  }
 },
 "nbformat": 4,
 "nbformat_minor": 2
}
